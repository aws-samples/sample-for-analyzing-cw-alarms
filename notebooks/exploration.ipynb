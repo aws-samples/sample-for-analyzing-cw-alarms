{
 "cells": [
  {
   "cell_type": "markdown",
   "metadata": {},
   "source": [
    "# Exploration Notebook for Cloudwatch Alarm Analyser"
   ]
  },
  {
   "cell_type": "markdown",
   "metadata": {},
   "source": [
    "## Setup Dependencies and Clients\n",
    "Local VSCode Jupyter doesn't play nice with IsengardCLI so I set the creds EnvVars explicitly"
   ]
  },
  {
   "cell_type": "code",
   "execution_count": null,
   "metadata": {},
   "outputs": [],
   "source": [
    "import datetime\n",
    "import json\n",
    "import os\n",
    "\n",
    "import boto3\n",
    "\n",
    "os.environ[\"AWS_PROFILE\"] = \"andevelt+docker-Admins\"\n",
    "os.environ[\"AWS_REGION\"] = \"eu-west-1\"\n",
    "\n",
    "cw_client = boto3.client(\"cloudwatch\", region_name=os.environ[\"AWS_REGION\"])\n"
   ]
  },
  {
   "cell_type": "markdown",
   "metadata": {},
   "source": [
    "## Function to Download All Alarms\n",
    "Places the alarm dictionaries into a separate metrics and composite alarm lists."
   ]
  },
  {
   "cell_type": "code",
   "execution_count": null,
   "metadata": {},
   "outputs": [],
   "source": [
    "def retrieve_all_cw_alarms(client):\n",
    "    paginator = client.get_paginator(\"describe_alarms\")\n",
    "\n",
    "    metric_alarms_list = []\n",
    "    composite_alarms_list = []\n",
    "    for page in paginator.paginate():\n",
    "        print(f\"Page:\\n {page}\")\n",
    "        for alarm in page[\"MetricAlarms\"]:\n",
    "            # print(f\"Metric Alarm retrieved: {alarm}\")\n",
    "            metric_alarms_list.append(alarm)\n",
    "        for alarm in page.get(\"CompositeAlarms\", []):\n",
    "            # print(f\"Composite Alarm retrieved: {alarm}\")\n",
    "            composite_alarms_list.append(alarm)\n",
    "\n",
    "    # print(f\"Total Metric Alarms: {len(metric_alarms_list)}\")\n",
    "    # print(f\"Total Composite Alarms: {len(composite_alarms_list)}\")\n",
    "\n",
    "    return metric_alarms_list, composite_alarms_list"
   ]
  },
  {
   "cell_type": "markdown",
   "metadata": {},
   "source": [
    "## Set Sample Alarm to Experiment"
   ]
  },
  {
   "cell_type": "code",
   "execution_count": null,
   "metadata": {},
   "outputs": [],
   "source": [
    "metric_alarms, comp_alarms = retrieve_all_cw_alarms(cw_client)\n",
    "\n",
    "for alarm in metric_alarms:\n",
    "    print(alarm)\n",
    "\n",
    "sample_alarm = metric_alarms[49]\n",
    "no_desc_sample = metric_alarms[1]\n",
    "\n",
    "print(f\"\\nSample Alarm:\\n{sample_alarm}\")\n",
    "\n",
    "print(f\"\\nSample Alarm:\\n{no_desc_sample}\")"
   ]
  },
  {
   "cell_type": "markdown",
   "metadata": {},
   "source": [
    "## General Alarm Checks\n",
    "We only need the alarm info from describe_alarms to check these things\n",
    "### Alarm has description? "
   ]
  },
  {
   "cell_type": "code",
   "execution_count": null,
   "metadata": {},
   "outputs": [],
   "source": [
    "def alarm_has_description(alarm):\n",
    "    alarm_desc = alarm.get(\"AlarmDescription\")\n",
    "\n",
    "    if alarm_desc is None or alarm_desc.strip() == \"\":\n",
    "        return False\n",
    "\n",
    "    return True\n"
   ]
  },
  {
   "cell_type": "markdown",
   "metadata": {},
   "source": [
    "### Alarms With Long Thersholds or Too Many Data Points\n",
    "These alarms are probably unlikely to ever trigger"
   ]
  },
  {
   "cell_type": "code",
   "execution_count": null,
   "metadata": {},
   "outputs": [],
   "source": [
    "def alarm_theshold_too_high(alarm):\n",
    "    alarm_threshold = alarm.get(\"Threshold\")\n",
    "\n",
    "    if not alarm_threshold or alarm_threshold > 30.0:\n",
    "        return True\n",
    "    return False\n",
    "\n",
    "\n",
    "def alarm_data_points_too_high(alarm):\n",
    "    alarm_data_points = alarm.get(\"DatapointsToAlarm\")\n",
    "\n",
    "    if not alarm_data_points or alarm_data_points > 15:\n",
    "        return True\n",
    "    return False"
   ]
  },
  {
   "cell_type": "markdown",
   "metadata": {},
   "source": [
    "### Alarm with No Actions"
   ]
  },
  {
   "cell_type": "code",
   "execution_count": null,
   "metadata": {},
   "outputs": [],
   "source": [
    "def alarm_has_actions(alarm):\n",
    "    return True if len(alarm[\"AlarmActions\"]) > 0 else False"
   ]
  },
  {
   "cell_type": "code",
   "execution_count": null,
   "metadata": {},
   "outputs": [],
   "source": [
    "for alarm in metric_alarms:\n",
    "    if not alarm_has_description(alarm):\n",
    "        print(f\"Missing Description for Alarm: {alarm[\"AlarmName\"]}\")\n",
    "    # if alarm_theshold_too_high(alarm):\n",
    "    #     print(\n",
    "    #         f\"Alarm Threshold Too High: {alarm[\"AlarmName\"]} Threshold set at {alarm.get(\"Threshold\")}\"\n",
    "    #     )\n",
    "    # if alarm_data_points_too_high(alarm):\n",
    "    #     print(\n",
    "    #         f\"Alarm Data Points Too High: {alarm[\"AlarmName\"]} Data Points set at {alarm.get(\"DatapointsToAlarm\")}\"\n",
    "    #     )\n",
    "    # if not alarm_has_actions(alarm):\n",
    "    #     print(f\"Missing Actions for Alarm: {alarm[\"AlarmName\"]}\")\n"
   ]
  },
  {
   "cell_type": "markdown",
   "metadata": {},
   "source": [
    "## Get History for Alarm"
   ]
  },
  {
   "cell_type": "code",
   "execution_count": null,
   "metadata": {},
   "outputs": [],
   "source": [
    "def get_alarm_history(client, alarm):\n",
    "    response = cw_client.describe_alarm_history(\n",
    "        AlarmName=sample_alarm[\"AlarmName\"]\n",
    "    )\n",
    "    return response[\n",
    "        \"AlarmHistoryItems\"\n",
    "    ]  ## TODO: Probably need to add pagination to get full history"
   ]
  },
  {
   "cell_type": "code",
   "execution_count": null,
   "metadata": {},
   "outputs": [],
   "source": [
    "import boto3\n",
    "import logging\n",
    "import os\n",
    "\n",
    "alarm_history = get_alarm_history(cw_client, sample_alarm)\n",
    "\n",
    "print(alarm_history)\n",
    "print(len(alarm_history))\n",
    "\n",
    "print(alarm_history[3][\"HistoryData\"])"
   ]
  },
  {
   "cell_type": "markdown",
   "metadata": {},
   "source": [
    "## History Based Checks\n",
    "A series of checks that require going through the history of an alarm to determine\n",
    "May also limit this to 2 weeks of history or something\n",
    "\n",
    "### Long Lived Alarm State\n",
    "Alarm triggers and isn't resolved for > 48 hours"
   ]
  },
  {
   "cell_type": "code",
   "execution_count": null,
   "metadata": {},
   "outputs": [],
   "source": [
    "def long_lived_alarm(alarm_history):\n",
    "    long_lived_alarm_count = 0\n",
    "    alarm_stack = []  # In reality, this should ALWAYS be len==1 or len==0 but i like .pop\n",
    "    for alarm in alarm_history:\n",
    "        if len(alarm_stack) > 1:  # I assume this is the case\n",
    "            print(\n",
    "                \"Error: Alarm cannot be triggered twice without being resolved.\"\n",
    "            )\n",
    "            break\n",
    "\n",
    "        if alarm[\"HistoryItemType\"] != \"StateUpdate\":\n",
    "            continue\n",
    "\n",
    "        if alarm[\"HistorySummary\"] == \"Alarm updated from OK to ALARM\":\n",
    "            alarm_stack.append(alarm)\n",
    "\n",
    "        elif alarm[\"HistorySummary\"] == \"Alarm updated from ALARM to OK\":\n",
    "            if (\n",
    "                len(alarm_stack) == 0\n",
    "            ):  # TODO: remove this when grabbing FULL history (catches case where pagination happens on active alarm)\n",
    "                continue\n",
    "            alarm_trigger = alarm_stack.pop()\n",
    "            alarm_hist = json.loads(alarm[\"HistoryData\"])\n",
    "            alarm_trigger_hist = json.loads(alarm_trigger[\"HistoryData\"])\n",
    "\n",
    "            # Sanity check something hasn't been missed by comparing state changes\n",
    "            if alarm_hist[\"newState\"] != alarm_trigger_hist[\"oldState\"]:\n",
    "                print(\n",
    "                    \"Error: Alarm cannot be triggered twice without being resolved.\"\n",
    "                )\n",
    "                break\n",
    "\n",
    "            alarm_time_string = alarm_trigger_hist[\"newState\"][\n",
    "                \"stateReasonData\"\n",
    "            ][\"startDate\"]\n",
    "            alarm_time = datetime.datetime.strptime(\n",
    "                alarm_time_string, \"%Y-%m-%dT%H:%M:%S.%f%z\"\n",
    "            )\n",
    "\n",
    "            ok_time_string = alarm_hist[\"newState\"][\"stateReasonData\"][\n",
    "                \"startDate\"\n",
    "            ]\n",
    "            ok_time = datetime.datetime.strptime(\n",
    "                ok_time_string, \"%Y-%m-%dT%H:%M:%S.%f%z\"\n",
    "            )\n",
    "\n",
    "            time_to_solve = ok_time - alarm_time\n",
    "            if time_to_solve > datetime.timedelta(hours=48):\n",
    "                long_lived_alarm_count += 1\n",
    "    return long_lived_alarm_count\n"
   ]
  },
  {
   "cell_type": "markdown",
   "metadata": {},
   "source": [
    "### Never Alerted\n",
    "Alarms that have never alerted since creation"
   ]
  },
  {
   "cell_type": "code",
   "execution_count": null,
   "metadata": {},
   "outputs": [],
   "source": [
    "def never_alerted(alarm_history):\n",
    "    if not alarm_history[\"AlarmHistoryItems\"]:\n",
    "        return True\n",
    "    return False"
   ]
  },
  {
   "cell_type": "code",
   "execution_count": null,
   "metadata": {},
   "outputs": [],
   "source": [
    "def get_alarm_start_time(alarm, state_type=\"newState\"):\n",
    "    if state_type not in [\"newState\", \"oldState\"]:\n",
    "        raise ValueError(\"state_type must be either 'newState' or 'oldState'\")\n",
    "\n",
    "    alarm_hist = json.loads(alarm[\"HistoryData\"])\n",
    "    alarm_start_time_string = alarm_hist[state_type][\"stateReasonData\"][\n",
    "        \"startDate\"\n",
    "    ]\n",
    "    last_alarm_start_time = datetime.datetime.strptime(\n",
    "        alarm_start_time_string, \"%Y-%m-%dT%H:%M:%S.%f%z\"\n",
    "    )\n",
    "\n",
    "    return last_alarm_start_time\n"
   ]
  },
  {
   "cell_type": "markdown",
   "metadata": {},
   "source": [
    "### Noisy Alarm\n",
    "Alarms which close within 2 minutes or twice within 12 hours."
   ]
  },
  {
   "cell_type": "code",
   "execution_count": null,
   "metadata": {},
   "outputs": [],
   "source": [
    "def alarm_history_checks(alarm_history):\n",
    "    long_lived_alarm_count = 0\n",
    "    long_term_issue_count = 0\n",
    "    recurring_in_12_hours_count = 0\n",
    "    short_alarm_count = 0\n",
    "\n",
    "    for alarm in reversed(alarm_history):\n",
    "        if alarm[\"HistoryItemType\"] != \"StateUpdate\":\n",
    "            print(\"Non Status Update data\")\n",
    "            continue\n",
    "\n",
    "        if alarm[\"HistorySummary\"] == \"Alarm updated from OK to ALARM\":\n",
    "            alarm_start_time = get_alarm_start_time(\n",
    "                alarm, state_type=\"newState\"\n",
    "            )\n",
    "            prev_alarm_close_time = get_alarm_start_time(\n",
    "                alarm, state_type=\"oldState\"\n",
    "            )\n",
    "            time_between_close_and_trigger = (\n",
    "                alarm_start_time - prev_alarm_close_time\n",
    "            )\n",
    "            if time_between_close_and_trigger <= datetime.timedelta(hours=24):\n",
    "                long_term_issue_count += 1\n",
    "                print(\n",
    "                    f\"Long Term Issue Alarm.\\nPrev Close: {prev_alarm_close_time}\\nNew Trigger: {alarm_start_time}.\\nTime Delta: {time_between_close_and_trigger}\"\n",
    "                )\n",
    "            if time_between_close_and_trigger <= datetime.timedelta(hours=12):\n",
    "                recurring_in_12_hours_count += 1\n",
    "                print(\n",
    "                    f\"Recurring in 12 Hours Alarm.\\nPrev Close: {prev_alarm_close_time}\\nNew Trigger: {alarm_start_time}.\\nTime Delta: {time_between_close_and_trigger}\"\n",
    "                )\n",
    "\n",
    "        elif alarm[\"HistorySummary\"] == \"Alarm updated from ALARM to OK\":\n",
    "            alarm_close_time = get_alarm_start_time(\n",
    "                alarm, state_type=\"newState\"\n",
    "            )\n",
    "            alarm_start_time = get_alarm_start_time(\n",
    "                alarm, state_type=\"oldState\"\n",
    "            )\n",
    "            time_to_solve = alarm_close_time - alarm_start_time\n",
    "            if time_to_solve >= datetime.timedelta(hours=48):\n",
    "                long_lived_alarm_count += 1\n",
    "                print(\n",
    "                    f\"Long Lived Alarm.\\nPrev Close: {prev_alarm_close_time}\\nNew Trigger: {alarm_start_time}.\\nTime Delta: {time_between_close_and_trigger}\"\n",
    "                )\n",
    "            elif time_to_solve <= datetime.timedelta(minutes=2):\n",
    "                short_alarm_count += 1\n",
    "                print(\n",
    "                    f\"Short Term Alarm.\\nPrev Close: {prev_alarm_close_time}\\nNew Trigger: {alarm_start_time}.\\nTime Delta: {time_between_close_and_trigger}\"\n",
    "                )\n",
    "\n",
    "    return {\n",
    "        \"long_lived_alarm_count\": long_lived_alarm_count,\n",
    "        \"long_term_issue_count\": long_term_issue_count,\n",
    "        \"recurring_in_12_hours_count\": recurring_in_12_hours_count,\n",
    "        \"short_alarm_count\": short_alarm_count,\n",
    "    }\n"
   ]
  },
  {
   "cell_type": "code",
   "execution_count": null,
   "metadata": {},
   "outputs": [],
   "source": [
    "response = alarm_history_checks(alarm_history)\n",
    "\n",
    "print(f\"Alarm history entries: {len(alarm_history)}\")\n",
    "\n",
    "print(json.dumps(response, indent=4))\n"
   ]
  },
  {
   "cell_type": "code",
   "execution_count": null,
   "metadata": {},
   "outputs": [],
   "source": [
    "def noisy_alarm(alarm_history):\n",
    "    long_lived_alarm_count = 0\n",
    "    short_alarm_count = 0\n",
    "    recurring_alarm_count = 0\n",
    "    alarm_stack = []  # In reality, this should ALWAYS be len==1 or len==0 but i like .pop\n",
    "    alarm_12_hour_stack = []\n",
    "    previous_alarm = None\n",
    "\n",
    "    for alarm in reversed(alarm_history):\n",
    "        if alarm[\"HistoryItemType\"] != \"StateUpdate\":\n",
    "            print(\"Non Status Update data\")\n",
    "            continue\n",
    "\n",
    "        if alarm[\"HistorySummary\"] == \"Alarm updated from OK to ALARM\":\n",
    "            print(\"Alarm updated from OK to ALARM\")\n",
    "            alarm_stack.append(alarm)\n",
    "            if len(alarm_12_hour_stack) == 0:\n",
    "                alarm_12_hour_stack.append(alarm)\n",
    "            else:\n",
    "                last_alarm = alarm_12_hour_stack.pop()\n",
    "                last_alarm_start_time = get_alarm_start_time(last_alarm)\n",
    "                alarm_start_time = get_alarm_start_time(alarm)\n",
    "\n",
    "                retrigger_time = alarm_start_time - last_alarm_start_time\n",
    "                print(f\"Retrigger time: {retrigger_time}\")\n",
    "                if retrigger_time < datetime.timedelta(hours=12):\n",
    "                    recurring_alarm_count += 1\n",
    "\n",
    "        elif alarm[\"HistorySummary\"] == \"Alarm updated from ALARM to OK\":\n",
    "            if (\n",
    "                len(alarm_stack) == 0\n",
    "            ):  # TODO: remove this when grabbing FULL history (catches case where pagination happens on active alarm)\n",
    "                continue\n",
    "            alarm_trigger = alarm_stack.pop()\n",
    "            alarm_hist = json.loads(alarm[\"HistoryData\"])\n",
    "            alarm_trigger_hist = json.loads(alarm_trigger[\"HistoryData\"])\n",
    "\n",
    "            # Sanity check something hasn't been missed by comparing state changes\n",
    "            if alarm_hist[\"newState\"] != alarm_trigger_hist[\"oldState\"]:\n",
    "                print(\n",
    "                    \"Error: Alarm cannot be triggered twice without being resolved.\"\n",
    "                )\n",
    "                break\n",
    "\n",
    "            alarm_time_string = alarm_trigger_hist[\"newState\"][\n",
    "                \"stateReasonData\"\n",
    "            ][\"startDate\"]\n",
    "            alarm_time = datetime.datetime.strptime(\n",
    "                alarm_time_string, \"%Y-%m-%dT%H:%M:%S.%f%z\"\n",
    "            )\n",
    "\n",
    "            ok_time_string = alarm_hist[\"newState\"][\"stateReasonData\"][\n",
    "                \"startDate\"\n",
    "            ]\n",
    "            ok_time = datetime.datetime.strptime(\n",
    "                ok_time_string, \"%Y-%m-%dT%H:%M:%S.%f%z\"\n",
    "            )\n",
    "\n",
    "            time_to_solve = ok_time - alarm_time\n",
    "            print(f\"Resolve time: {time_to_solve}\")\n",
    "            if time_to_solve < datetime.timedelta(minutes=2):\n",
    "                short_alarm_count += 1\n",
    "    return short_alarm_count, recurring_alarm_count\n"
   ]
  },
  {
   "cell_type": "markdown",
   "metadata": {},
   "source": [
    "### Alarms Indicating Long Term Issues\n",
    "Alarms occuring at least once a day, every 2 days or less."
   ]
  },
  {
   "cell_type": "code",
   "execution_count": null,
   "metadata": {},
   "outputs": [],
   "source": [
    "def long_term_issue_alarms(alarm_history):\n",
    "    pass"
   ]
  },
  {
   "cell_type": "markdown",
   "metadata": {},
   "source": [
    "## Notes\n",
    "For the checks requiring alarm history, it makes much more sense to peruse the history once and perform each of the checks in parallel as we go along. Each check will have its own data structure (queue/stack) to track as we go and can use that structure plus the new entry to inform a decision."
   ]
  },
  {
   "cell_type": "code",
   "execution_count": null,
   "metadata": {},
   "outputs": [],
   "source": [
    "long_lived_alarms = long_lived_alarm(alarm_history)"
   ]
  },
  {
   "cell_type": "code",
   "execution_count": null,
   "metadata": {},
   "outputs": [],
   "source": [
    "noisy_2min_alarm, recurring_12hour_alarm = noisy_alarm(alarm_history)"
   ]
  },
  {
   "cell_type": "code",
   "execution_count": null,
   "metadata": {},
   "outputs": [],
   "source": [
    "print(noisy_2min_alarm)"
   ]
  },
  {
   "cell_type": "code",
   "execution_count": null,
   "metadata": {},
   "outputs": [],
   "source": [
    "# for item in alarm_history:\n",
    "#     print(item)\n",
    "\n",
    "print(alarm_history)\n",
    "print(alarm_history[0])\n",
    "print(type(json.loads(alarm_history[0][\"HistoryData\"])))\n",
    "print(json.loads(alarm_history[0][\"HistoryData\"]))\n",
    "print(type(json.loads(alarm_history[0][\"HistoryData\"])[\"oldState\"]))\n",
    "print(\n",
    "    type(\n",
    "        json.loads(alarm_history[0][\"HistoryData\"])[\"oldState\"][\n",
    "            \"stateReasonData\"\n",
    "        ]\n",
    "    )\n",
    ")\n",
    "print(\n",
    "    type(\n",
    "        json.loads(alarm_history[0][\"HistoryData\"])[\"oldState\"][\n",
    "            \"stateReasonData\"\n",
    "        ][\"startDate\"]\n",
    "    )\n",
    ")"
   ]
  },
  {
   "cell_type": "code",
   "execution_count": null,
   "metadata": {},
   "outputs": [],
   "source": [
    "from datetime import timedelta\n",
    "\n",
    "dt = \"2024-10-02T14:36:59.792+0000\"\n",
    "\n",
    "print(type(datetime.datetime.strptime(dt, \"%Y-%m-%dT%H:%M:%S.%f%z\")))"
   ]
  },
  {
   "cell_type": "markdown",
   "metadata": {},
   "source": [
    "## LLM Shennanigans"
   ]
  },
  {
   "cell_type": "code",
   "execution_count": null,
   "metadata": {},
   "outputs": [],
   "source": [
    "def generate_message(bedrock_runtime, model_id, system_prompt, messages):\n",
    "    body = json.dumps(\n",
    "        {\n",
    "            \"anthropic_version\": \"bedrock-2023-05-31\",\n",
    "            \"system\": system_prompt,\n",
    "            \"messages\": messages,\n",
    "            \"temperature\": 0.1,\n",
    "            \"max_tokens\": 2000,\n",
    "        }\n",
    "    )\n",
    "\n",
    "    response = bedrock_runtime.invoke_model(body=body, modelId=model_id)\n",
    "    response_body = json.loads(response.get(\"body\").read())\n",
    "\n",
    "    return response_body"
   ]
  },
  {
   "cell_type": "code",
   "execution_count": null,
   "metadata": {},
   "outputs": [],
   "source": [
    "bedrock_runtime = boto3.client(\n",
    "    service_name=\"bedrock-runtime\", region_name=\"us-west-2\"\n",
    ")\n",
    "\n",
    "# model_id = \"anthropic.claude-3-sonnet-20240229-v1:0\"\n",
    "model_id = \"anthropic.claude-3-5-sonnet-20241022-v2:0\"\n",
    "system_prompt = \"\"\"\n",
    "You are a helpful assistant that analyzes CloudWatch Alarm data.\n",
    "You assess whether alarm descriptions are meaningful and representative of the alarm.\n",
    "You will be presented an Alarm description (in <desc>) tags\n",
    "and a JSON object that describes the alarm (in <alarm> tags).\n",
    "If the alarm description is not in the object, is None or is a blank string, suggest a new description\n",
    "Alarm descriptions should be descriptive, containing information on what metric\n",
    "triggers the alarm as well as the threshold and what actions are triggered.\n",
    "Additionally, it is good practice to link a playbook (only 1 link should be included).\n",
    "\n",
    "After assessing the alarm, provide a suggested new alarm description that incorporates your feedback.\n",
    "\n",
    "When returning your output, be succinct in your assessment, skip any preamble and wrap it into a JSON object like the following:\n",
    "{\"assessment\": <your assessment>, \"suggested_description\": <your suggested description>}\n",
    "\"\"\""
   ]
  },
  {
   "cell_type": "code",
   "execution_count": null,
   "metadata": {},
   "outputs": [],
   "source": [
    "def check_alarm_description(alarm):\n",
    "    u_msg = (\n",
    "        f\" Evaluate if the description is meaningful and representative\"\n",
    "        f\"of the alarm then sugggest a new alarm if necessary.\\n\\n\"\n",
    "        f\"<desc>{alarm.get(\"AlarmDescription\")}</desc>\\n\\n\"\n",
    "        f\"<alarm>{json.dumps(alarm, default=str)}</alarm>\\n\\n\"\n",
    "    )\n",
    "\n",
    "    user_message = {\"role\": \"user\", \"content\": u_msg}\n",
    "    messages = [user_message]\n",
    "\n",
    "    prefill_msg = {\n",
    "        \"role\": \"assistant\",\n",
    "        \"content\": '{\"assessment\":',\n",
    "    }\n",
    "    messages.append(prefill_msg)\n",
    "\n",
    "    response = generate_message(\n",
    "        bedrock_runtime, model_id, system_prompt, messages\n",
    "    )\n",
    "    print(json.dumps(response, indent=4))"
   ]
  },
  {
   "cell_type": "code",
   "execution_count": null,
   "metadata": {},
   "outputs": [],
   "source": [
    "from dateutil.tz import tzutc\n",
    "\n",
    "print(sample_alarm)\n",
    "test_alarm_playbook = {\n",
    "    \"AlarmName\": \"PetSite-PIIFound\",\n",
    "    \"AlarmArn\": \"arn:aws:cloudwatch:eu-west-1:083012691457:alarm:PetSite-PIIFound\",\n",
    "    \"AlarmDescription\": \"PII has been found in your log group please investigate ASAP.\\n\\nFollow the process in this [Playbook](http://servi-petsi-1tu961qv2i76w-915383862.eu-west-1.elb.amazonaws.com/) on what steps to take for this alarm.\\nThis [Runbook](http://servi-petsi-1tu961qv2i76w-915383862.eu-west-1.elb.amazonaws.com/)  details how to troubleshoot/resolve the issue.\",\n",
    "    \"AlarmConfigurationUpdatedTimestamp\": datetime.datetime(\n",
    "        2023, 5, 10, 12, 1, 28, 293000, tzinfo=tzutc()\n",
    "    ),\n",
    "    \"ActionsEnabled\": True,\n",
    "    \"OKActions\": [],\n",
    "    \"AlarmActions\": [\"arn:aws:sns:eu-west-1:083012691457:PetSite-Ops\"],\n",
    "    \"InsufficientDataActions\": [],\n",
    "    \"StateValue\": \"OK\",\n",
    "    \"StateReason\": \"Threshold Crossed: 1 out of the last 1 datapoints [1.0 (01/05/24 18:08:00)] was not greater than the threshold (1.0) (minimum 1 datapoint for ALARM -> OK transition).\",\n",
    "    \"StateReasonData\": '{\"version\":\"1.0\",\"queryDate\":\"2024-05-01T18:23:06.375+0000\",\"startDate\":\"2024-05-01T18:08:00.000+0000\",\"statistic\":\"Sum\",\"period\":900,\"recentDatapoints\":[1.0],\"threshold\":1.0,\"evaluatedDatapoints\":[{\"timestamp\":\"2024-05-01T18:08:00.000+0000\",\"sampleCount\":1.0,\"value\":1.0}]}',\n",
    "    \"StateUpdatedTimestamp\": datetime.datetime(\n",
    "        2024, 5, 1, 18, 23, 6, 378000, tzinfo=tzutc()\n",
    "    ),\n",
    "    \"MetricName\": \"LogEventsWithFindings\",\n",
    "    \"Namespace\": \"AWS/Logs\",\n",
    "    \"Statistic\": \"Sum\",\n",
    "    \"Dimensions\": [\n",
    "        {\"Name\": \"DataProtectionOperation\", \"Value\": \"Audit\"},\n",
    "        {\"Name\": \"LogGroupName\", \"Value\": \"/ecs/PayForAdoption\"},\n",
    "    ],\n",
    "    \"Period\": 900,\n",
    "    \"EvaluationPeriods\": 1,\n",
    "    \"DatapointsToAlarm\": 1,\n",
    "    \"Threshold\": 1.0,\n",
    "    \"ComparisonOperator\": \"GreaterThanThreshold\",\n",
    "    \"TreatMissingData\": \"notBreaching\",\n",
    "    \"StateTransitionedTimestamp\": datetime.datetime(\n",
    "        2024, 5, 1, 18, 23, 6, 378000, tzinfo=tzutc()\n",
    "    ),\n",
    "}\n",
    "\n",
    "\n",
    "check_alarm_description(test_alarm_playbook)"
   ]
  },
  {
   "cell_type": "code",
   "execution_count": null,
   "metadata": {},
   "outputs": [],
   "source": [
    "u_msg2 = \"Given the following list of events on an alarm, tell me if this alarm should be considred noisy. A noisy alarm is defined as an alarm which triggers and clears within 2 minutes or triggers more than once in 12 hours.\\n<alarms>\\n\"\n",
    "\n",
    "for alarm in alarm_history:\n",
    "    u_msg2 += alarm.__str__() + \"\\n\"\n",
    "\n",
    "u_msg2 += \"</alarms>\"\n",
    "\n",
    "# Prompt with user turn only.\n",
    "user_message = {\"role\": \"user\", \"content\": u_msg2}\n",
    "messages = [user_message]\n",
    "\n",
    "response = generate_message(bedrock_runtime, model_id, system_prompt, messages)\n",
    "print(json.dumps(response, indent=4))"
   ]
  }
 ],
 "metadata": {
  "kernelspec": {
   "display_name": ".venv",
   "language": "python",
   "name": "python3"
  },
  "language_info": {
   "codemirror_mode": {
    "name": "ipython",
    "version": 3
   },
   "file_extension": ".py",
   "mimetype": "text/x-python",
   "name": "python",
   "nbconvert_exporter": "python",
   "pygments_lexer": "ipython3",
   "version": "3.12.7"
  }
 },
 "nbformat": 4,
 "nbformat_minor": 2
}
