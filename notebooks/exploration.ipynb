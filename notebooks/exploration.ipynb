{
 "cells": [
  {
   "cell_type": "markdown",
   "metadata": {},
   "source": [
    "# Exploration Notebook for Cloudwatch Alarm Analyser"
   ]
  },
  {
   "cell_type": "markdown",
   "metadata": {},
   "source": [
    "## Setup Dependencies and Clients\n",
    "Local VSCode Jupyter doesn't play nice with IsengardCLI so I set the creds EnvVars explicitly"
   ]
  },
  {
   "cell_type": "code",
   "execution_count": 36,
   "metadata": {},
   "outputs": [],
   "source": [
    "import datetime\n",
    "import json\n",
    "import os\n",
    "\n",
    "import boto3\n",
    "\n",
    "os.environ[\"AWS_PROFILE\"] = \"andevelt+docker-Admins\"\n",
    "os.environ[\"AWS_REGION\"] = \"eu-west-1\"\n",
    "\n",
    "cw_client = boto3.client(\"cloudwatch\", region_name=os.environ[\"AWS_REGION\"])\n"
   ]
  },
  {
   "cell_type": "markdown",
   "metadata": {},
   "source": [
    "## Function to Download All Alarms\n",
    "Places the alarm dictionaries into a separate metrics and composite alarm lists."
   ]
  },
  {
   "cell_type": "code",
   "execution_count": 3,
   "metadata": {},
   "outputs": [],
   "source": [
    "def retrieve_all_cw_alarms(client):\n",
    "    paginator = client.get_paginator(\"describe_alarms\")\n",
    "\n",
    "    metric_alarms_list = []\n",
    "    composite_alarms_list = []\n",
    "    for page in paginator.paginate():\n",
    "        print(f\"Page:\\n {page}\")\n",
    "        for alarm in page[\"MetricAlarms\"]:\n",
    "            # print(f\"Metric Alarm retrieved: {alarm}\")\n",
    "            metric_alarms_list.append(alarm)\n",
    "        for alarm in page.get(\"CompositeAlarms\", []):\n",
    "            # print(f\"Composite Alarm retrieved: {alarm}\")\n",
    "            composite_alarms_list.append(alarm)\n",
    "\n",
    "    # print(f\"Total Metric Alarms: {len(metric_alarms_list)}\")\n",
    "    # print(f\"Total Composite Alarms: {len(composite_alarms_list)}\")\n",
    "\n",
    "    return metric_alarms_list, composite_alarms_list"
   ]
  },
  {
   "cell_type": "markdown",
   "metadata": {},
   "source": [
    "## Set Sample Alarm to Experiment"
   ]
  },
  {
   "cell_type": "code",
   "execution_count": null,
   "metadata": {},
   "outputs": [],
   "source": [
    "metric_alarms, comp_alarms = retrieve_all_cw_alarms(cw_client)\n",
    "\n",
    "for alarm in metric_alarms:\n",
    "    print(alarm)\n",
    "\n",
    "sample_alarm = metric_alarms[48]\n",
    "\n",
    "print(sample_alarm)"
   ]
  },
  {
   "cell_type": "markdown",
   "metadata": {},
   "source": [
    "## General Alarm Checks\n",
    "We only need the alarm info from describe_alarms to check these things\n",
    "### Alarm has description? "
   ]
  },
  {
   "cell_type": "code",
   "execution_count": 5,
   "metadata": {},
   "outputs": [],
   "source": [
    "def alarm_has_description(alarm):\n",
    "    alarm_desc = alarm.get(\"AlarmDescription\")\n",
    "\n",
    "    if alarm_desc is None or alarm_desc.strip() == \"\":\n",
    "        return False\n",
    "\n",
    "    return True\n"
   ]
  },
  {
   "cell_type": "markdown",
   "metadata": {},
   "source": [
    "### Alarms With Long Thersholds or Too Many Data Points\n",
    "These alarms are probably unlikely to ever trigger"
   ]
  },
  {
   "cell_type": "code",
   "execution_count": 6,
   "metadata": {},
   "outputs": [],
   "source": [
    "def alarm_theshold_too_high(alarm):\n",
    "    alarm_threshold = alarm.get(\"Threshold\")\n",
    "\n",
    "    if not alarm_threshold or alarm_threshold > 30.0:\n",
    "        return True\n",
    "    return False\n",
    "\n",
    "\n",
    "def alarm_data_points_too_high(alarm):\n",
    "    alarm_data_points = alarm.get(\"DatapointsToAlarm\")\n",
    "\n",
    "    if not alarm_data_points or alarm_data_points > 15:\n",
    "        return True\n",
    "    return False"
   ]
  },
  {
   "cell_type": "markdown",
   "metadata": {},
   "source": [
    "### Alarm with No Actions"
   ]
  },
  {
   "cell_type": "code",
   "execution_count": 7,
   "metadata": {},
   "outputs": [],
   "source": [
    "def alarm_has_actions(alarm):\n",
    "    return True if len(alarm[\"AlarmActions\"]) > 0 else False"
   ]
  },
  {
   "cell_type": "code",
   "execution_count": null,
   "metadata": {},
   "outputs": [],
   "source": [
    "for alarm in metric_alarms:\n",
    "    if not alarm_has_description(alarm):\n",
    "        print(f\"Missing Description for Alarm: {alarm[\"AlarmName\"]}\")\n",
    "    if alarm_theshold_too_high(alarm):\n",
    "        print(\n",
    "            f\"Alarm Threshold Too High: {alarm[\"AlarmName\"]} Threshold set at {alarm.get(\"Threshold\")}\"\n",
    "        )\n",
    "    if alarm_data_points_too_high(alarm):\n",
    "        print(\n",
    "            f\"Alarm Data Points Too High: {alarm[\"AlarmName\"]} Data Points set at {alarm.get(\"DatapointsToAlarm\")}\"\n",
    "        )\n",
    "    if not alarm_has_actions(alarm):\n",
    "        print(f\"Missing Actions for Alarm: {alarm[\"AlarmName\"]}\")\n"
   ]
  },
  {
   "cell_type": "markdown",
   "metadata": {},
   "source": [
    "## Get History for Alarm"
   ]
  },
  {
   "cell_type": "code",
   "execution_count": 9,
   "metadata": {},
   "outputs": [],
   "source": [
    "def get_alarm_history(client, alarm):\n",
    "    response = cw_client.describe_alarm_history(\n",
    "        AlarmName=sample_alarm[\"AlarmName\"]\n",
    "    )\n",
    "    return response[\n",
    "        \"AlarmHistoryItems\"\n",
    "    ]  ## TODO: Probably need to add pagination to get full history"
   ]
  },
  {
   "cell_type": "code",
   "execution_count": 10,
   "metadata": {},
   "outputs": [],
   "source": [
    "alarm_history = get_alarm_history(cw_client, sample_alarm)\n"
   ]
  },
  {
   "cell_type": "markdown",
   "metadata": {},
   "source": [
    "## History Based Checks\n",
    "A series of checks that require going through the history of an alarm to determine\n",
    "May also limit this to 2 weeks of history or something\n",
    "\n",
    "### Long Lived Alarm State\n",
    "Alarm triggers and isn't resolved for > 48 hours"
   ]
  },
  {
   "cell_type": "code",
   "execution_count": 40,
   "metadata": {},
   "outputs": [],
   "source": [
    "def long_lived_alarm(alarm_history_items):\n",
    "    long_lived_alarm_count = 0\n",
    "    alarm_stack = []  # In reality, this should ALWAYS be len==1 or len==0 but i like .pop\n",
    "    for alarm in alarm_history_items:\n",
    "        if len(alarm_stack) > 1:  # I assume this is the case\n",
    "            print(\n",
    "                \"Error: Alarm cannot be triggered twice without being resolved.\"\n",
    "            )\n",
    "            break\n",
    "\n",
    "        if alarm[\"HistoryItemType\"] != \"StateUpdate\":\n",
    "            continue\n",
    "\n",
    "        if alarm[\"HistorySummary\"] == \"Alarm updated from OK to ALARM\":\n",
    "            alarm_stack.append(alarm)\n",
    "\n",
    "        elif alarm[\"HistorySummary\"] == \"Alarm updated from ALARM to OK\":\n",
    "            if (\n",
    "                len(alarm_stack) == 0\n",
    "            ):  # TODO: remove this when grabbing FULL history (catches case where pagination happens on active alarm)\n",
    "                continue\n",
    "            alarm_trigger = alarm_stack.pop()\n",
    "            alarm_hist = json.loads(alarm[\"HistoryData\"])\n",
    "            alarm_trigger_hist = json.loads(alarm_trigger[\"HistoryData\"])\n",
    "\n",
    "            # Sanity check something hasn't been missed by comparing state changes\n",
    "            if alarm_hist[\"newState\"] != alarm_trigger_hist[\"oldState\"]:\n",
    "                print(\n",
    "                    \"Error: Alarm cannot be triggered twice without being resolved.\"\n",
    "                )\n",
    "                break\n",
    "\n",
    "            alarm_time_string = alarm_trigger_hist[\"newState\"][\n",
    "                \"stateReasonData\"\n",
    "            ][\"startDate\"]\n",
    "            alarm_time = datetime.datetime.strptime(\n",
    "                alarm_time_string, \"%Y-%m-%dT%H:%M:%S.%f%z\"\n",
    "            )\n",
    "\n",
    "            ok_time_string = alarm_hist[\"newState\"][\"stateReasonData\"][\n",
    "                \"startDate\"\n",
    "            ]\n",
    "            ok_time = datetime.datetime.strptime(\n",
    "                ok_time_string, \"%Y-%m-%dT%H:%M:%S.%f%z\"\n",
    "            )\n",
    "\n",
    "            time_to_solve = ok_time - alarm_time\n",
    "            if time_to_solve > datetime.timedelta(hours=48):\n",
    "                long_lived_alarm_count += 1\n",
    "    return long_lived_alarm_count\n"
   ]
  },
  {
   "cell_type": "markdown",
   "metadata": {},
   "source": [
    "### Never Alerted\n",
    "Alarms that have never alerted since creation"
   ]
  },
  {
   "cell_type": "code",
   "execution_count": 12,
   "metadata": {},
   "outputs": [],
   "source": [
    "def never_alerted(alarm_history):\n",
    "    if not alarm_history[\"AlarmHistoryItems\"]:\n",
    "        return True\n",
    "    return False"
   ]
  },
  {
   "cell_type": "markdown",
   "metadata": {},
   "source": [
    "### Noisy Alarm\n",
    "Alarms which close within 2 minutes"
   ]
  },
  {
   "cell_type": "code",
   "execution_count": null,
   "metadata": {},
   "outputs": [],
   "source": [
    "def noisy_alarm(alarm_history):\n",
    "    pass"
   ]
  },
  {
   "cell_type": "markdown",
   "metadata": {},
   "source": [
    "### Alarms Indicating Long Term Issues\n",
    "Alarms occuring at least once a day, every 2 days or less."
   ]
  },
  {
   "cell_type": "code",
   "execution_count": null,
   "metadata": {},
   "outputs": [],
   "source": [
    "def long_term_issue_alarms(alarm_history):\n",
    "    pass"
   ]
  },
  {
   "cell_type": "code",
   "execution_count": 41,
   "metadata": {},
   "outputs": [],
   "source": [
    "long_lived_alarms = long_lived_alarm(alarm_history)"
   ]
  },
  {
   "cell_type": "code",
   "execution_count": null,
   "metadata": {},
   "outputs": [],
   "source": [
    "# for item in alarm_history:\n",
    "#     print(item)\n",
    "\n",
    "print(alarm_history)\n",
    "print(alarm_history[0])\n",
    "print(type(json.loads(alarm_history[0][\"HistoryData\"])))\n",
    "print(json.loads(alarm_history[0][\"HistoryData\"]))\n",
    "print(type(json.loads(alarm_history[0][\"HistoryData\"])[\"oldState\"]))\n",
    "print(\n",
    "    type(\n",
    "        json.loads(alarm_history[0][\"HistoryData\"])[\"oldState\"][\n",
    "            \"stateReasonData\"\n",
    "        ]\n",
    "    )\n",
    ")\n",
    "print(\n",
    "    type(\n",
    "        json.loads(alarm_history[0][\"HistoryData\"])[\"oldState\"][\n",
    "            \"stateReasonData\"\n",
    "        ][\"startDate\"]\n",
    "    )\n",
    ")"
   ]
  },
  {
   "cell_type": "code",
   "execution_count": null,
   "metadata": {},
   "outputs": [],
   "source": [
    "from datetime import timedelta\n",
    "\n",
    "dt = \"2024-10-02T14:36:59.792+0000\"\n",
    "\n",
    "print(type(datetime.datetime.strptime(dt, \"%Y-%m-%dT%H:%M:%S.%f%z\")))"
   ]
  }
 ],
 "metadata": {
  "kernelspec": {
   "display_name": ".venv",
   "language": "python",
   "name": "python3"
  },
  "language_info": {
   "codemirror_mode": {
    "name": "ipython",
    "version": 3
   },
   "file_extension": ".py",
   "mimetype": "text/x-python",
   "name": "python",
   "nbconvert_exporter": "python",
   "pygments_lexer": "ipython3",
   "version": "3.12.5"
  }
 },
 "nbformat": 4,
 "nbformat_minor": 2
}
